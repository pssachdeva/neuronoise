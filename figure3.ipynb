{
 "cells": [
  {
   "cell_type": "code",
   "execution_count": null,
   "metadata": {
    "collapsed": true
   },
   "outputs": [],
   "source": [
    "from LNN import *\n",
    "\n",
    "from scipy.stats import lognorm\n",
    "\n",
    "# matplotlib settings\n",
    "import matplotlib.pyplot as plt\n",
    "%matplotlib inline\n",
    "from matplotlib import rc\n",
    "plt.style.use('ggplot')\n",
    "rc('font',**{'family':'serif','serif':['Computer Modern Roman']})\n",
    "rc('text', usetex = True)\n",
    "from mpl_toolkits.axes_grid1 import make_axes_locatable\n",
    "\n",
    "CB_color_cycle = ['#377eb8', '#ff7f00', '#4daf4a',\n",
    "                  '#f781bf', '#a65628', '#984ea3',\n",
    "                  '#999999', '#e41a1c', '#dede00']"
   ]
  },
  {
   "cell_type": "markdown",
   "metadata": {},
   "source": [
    "# Functions"
   ]
  },
  {
   "cell_type": "code",
   "execution_count": null,
   "metadata": {
    "collapsed": true
   },
   "outputs": [],
   "source": [
    "def struct_weight_plot_nonlinear_N(N_max, ks, v=None, s=1., typ=1, colors=CB_color_cycle,\n",
    "                           sigmaM=1., sigmaC=1., ax=None, linestyle='-'):\n",
    "    # create plot\n",
    "    if ax is None:\n",
    "        fig = plt.figure(figsize = (10, 8))\n",
    "        ax = fig.add_subplot(111)\n",
    "    # iterate over scales\n",
    "    for k_idx, k in enumerate(ks):\n",
    "        Ns = np.arange(k, N_max, k)\n",
    "        data = np.zeros(Ns.shape)\n",
    "        for N_idx, N in enumerate(Ns):\n",
    "            if typ==1:\n",
    "                w=LNN.struct_weight_maker(N, k)\n",
    "            else:\n",
    "                w=LNN.struct_weight_maker(N, N/k)\n",
    "            lnn = LNN(v=np.ones(N), w=w, \n",
    "                      sigmaM=sigmaM, sigmaC=sigmaC, nonlinearity='squared')\n",
    "            data[N_idx] = lnn.FI_squared_nonlin(s)\n",
    "        if typ==1:\n",
    "            ax.plot(Ns, data, label=r'$k=%s$' %k, linewidth=4, color=colors[-k_idx], linestyle=linestyle)\n",
    "        else:\n",
    "            ax.plot(Ns, data, label=r'$k=N/%s$' %k, linewidth=4, color=colors[k_idx], linestyle=linestyle)\n",
    "    ax.set_facecolor('white')\n",
    "    ax.set_xlabel(r'$N$', fontsize = 30)\n",
    "    ax.tick_params(labelsize=20)\n",
    "    lgd = ax.legend(loc=2, ncol=2, facecolor='white', prop={'size' : 15})\n",
    "    lgd.get_frame().set_edgecolor('k')\n",
    "    for spine in ax.spines.values():\n",
    "        spine.set_edgecolor('k')\n",
    "    return ax"
   ]
  },
  {
   "cell_type": "code",
   "execution_count": null,
   "metadata": {
    "collapsed": true
   },
   "outputs": [],
   "source": [
    "def plot_fisher_nonlinear_2d(N, ratios, ks, v=None, s=1., typ=1, colors=CB_color_cycle,\n",
    "                            ax=None):\n",
    "    # create plot\n",
    "    if ax is None:\n",
    "        fig = plt.figure(figsize = (10, 8))\n",
    "        ax = fig.add_subplot(111)\n",
    "    if v is None:\n",
    "        v = np.ones(N)\n",
    "    fishers = np.zeros((ratios.size, ks.size))\n",
    "    for ratio_idx, ratio in enumerate(ratios):\n",
    "        sigmaC = 1\n",
    "        sigmaM = ratio * sigmaC\n",
    "        for k_idx, k in enumerate(ks):\n",
    "            if typ==1:\n",
    "                w=LNN.struct_weight_maker(N, k)\n",
    "            else:\n",
    "                w=LNN.struct_weight_maker(N, N/k)    \n",
    "            lnn = LNN(v=np.ones(N), w=w, \n",
    "                      sigmaM=sigmaM, sigmaC=sigmaC, nonlinearity='squared')\n",
    "            fishers[ratio_idx, k_idx] = lnn.FI_squared_nonlin(s)\n",
    "        fishers[ratio_idx, :] = fishers[ratio_idx, :]/np.max(fishers[ratio_idx, :])\n",
    "    ax.grid(False)\n",
    "    img = ax.imshow(np.flip(fishers.T, axis=0), interpolation='spline36')\n",
    "    ax.tick_params(labelsize=20)\n",
    "    return img"
   ]
  },
  {
   "cell_type": "markdown",
   "metadata": {},
   "source": [
    "# Plot Figure 3"
   ]
  },
  {
   "cell_type": "code",
   "execution_count": null,
   "metadata": {
    "collapsed": true
   },
   "outputs": [],
   "source": [
    "fig, axes = plt.subplots(1, 3, figsize=(24,8))\n",
    "\n",
    "struct_weight_plot_nonlinear_N(1000, [1, 2, 3, 4], typ=1, ax=axes[0], sigmaM=1.)\n",
    "struct_weight_plot_nonlinear_N(1000, [1, 2, 3, 4], typ=2, ax=axes[0], linestyle='--', sigmaM=1.)\n",
    "axes[0].set_xlim([0, 1000])\n",
    "axes[0].set_ylabel('Fisher Information', fontsize=30)\n",
    "axes[0].set_title(r'\\textbf{A}', fontsize=30)\n",
    "axes[0].text(500, 8, s=r'$\\sigma_M=1$', fontsize=30)\n",
    "\n",
    "struct_weight_plot_nonlinear_N(1000, [1, 2, 3, 4], typ=1, ax=axes[1], sigmaM=5.)\n",
    "struct_weight_plot_nonlinear_N(1000, [1, 2, 3, 4], typ=2, ax=axes[1], linestyle='--', sigmaM=5.)\n",
    "axes[1].set_xlim([0, 1000])\n",
    "axes[1].set_ylabel('Fisher Information', fontsize=30)\n",
    "axes[1].set_title(r'\\textbf{B}', fontsize=30)\n",
    "axes[1].text(500, 0.54, s=r'$\\sigma_M=5$', fontsize=30)\n",
    "\n",
    "ratios = np.linspace(0.1, 20, 1000)\n",
    "ks = np.arange(1, 11)\n",
    "img = plot_fisher_nonlinear_2d(1000, ratios, ks, s=1, typ=1, ax=axes[2])\n",
    "axes[2].set_yticks([0, 2, 4, 6, 8])\n",
    "axes[2].set_yticklabels([9, 7, 5, 3, 1])\n",
    "axes[2].set_xticks([0, 95, 246, 497, 748, 999])\n",
    "axes[2].set_xticklabels([0.1, 2, 5, 10, 15, 20])\n",
    "axes[2].set_aspect(ratios.size/ks.size)\n",
    "axes[2].tick_params(labelsize=20)\n",
    "axes[2].set_xlabel(r'$\\sigma_M$', fontsize=30)\n",
    "axes[2].set_ylabel(r'$k$', fontsize=30)\n",
    "axes[2].set_title(r'\\textbf{C}', fontsize=30)\n",
    "cb = plt.colorbar(img, fraction=0.046, pad=0.04)\n",
    "cb.ax.set_ylabel(r'Normalized Fisher Information', fontsize=30)\n",
    "cb.ax.tick_params(labelsize=20) \n",
    "plt.tight_layout(rect=[0, 0.0, 1, 0.94])\n",
    "plt.savefig('figure3.pdf')"
   ]
  }
 ],
 "metadata": {
  "kernelspec": {
   "display_name": "Python 3",
   "language": "python",
   "name": "python3"
  },
  "language_info": {
   "codemirror_mode": {
    "name": "ipython",
    "version": 3
   },
   "file_extension": ".py",
   "mimetype": "text/x-python",
   "name": "python",
   "nbconvert_exporter": "python",
   "pygments_lexer": "ipython3",
   "version": "3.5.1"
  }
 },
 "nbformat": 4,
 "nbformat_minor": 0
}
