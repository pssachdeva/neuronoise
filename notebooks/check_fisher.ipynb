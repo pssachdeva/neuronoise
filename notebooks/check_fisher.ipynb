{
 "cells": [
  {
   "cell_type": "code",
   "execution_count": 2,
   "metadata": {
    "collapsed": true
   },
   "outputs": [],
   "source": [
    "import numpy as np"
   ]
  },
  {
   "cell_type": "code",
   "execution_count": 2,
   "metadata": {
    "collapsed": true
   },
   "outputs": [],
   "source": [
    "%qtconsole"
   ]
  },
  {
   "cell_type": "code",
   "execution_count": 3,
   "metadata": {
    "collapsed": true
   },
   "outputs": [],
   "source": [
    "def generate_random_vector(N):\n",
    "    return np.random.lognormal(size = N)"
   ]
  },
  {
   "cell_type": "code",
   "execution_count": 4,
   "metadata": {
    "collapsed": true
   },
   "outputs": [],
   "source": [
    "np.set_printoptions(linewidth = 150)"
   ]
  },
  {
   "cell_type": "markdown",
   "metadata": {},
   "source": [
    "# Check $M^{-1}$"
   ]
  },
  {
   "cell_type": "code",
   "execution_count": 44,
   "metadata": {},
   "outputs": [],
   "source": [
    "def check_M_inv(N=10, s=np.random.normal(), sigmaC=np.random.lognormal(), sigmaM=np.random.lognormal(),\n",
    "                   v=None, w=None, tol=10e-13):\n",
    "    if v is None:\n",
    "        v = generate_random_vector(N)\n",
    "    if w is None:\n",
    "        w = generate_random_vector(N)\n",
    "    \n",
    "    V = v**2\n",
    "    W = w**2\n",
    "    X = v*w\n",
    "    \n",
    "    M = 2 * sigmaM**4 * np.identity(N) + 4 * sigmaM**2 * s**2 * np.diag(V) + 4 * sigmaM**2 * sigmaC**2 * np.diag(W) + 4 * s**2 * sigmaC**2 * np.outer(X, X)\n",
    "    M_inv_num = np.linalg.inv(M)\n",
    "    M_inv_anal = np.diag(1./(2 * sigmaM**4 + 4 * sigmaM**2 * s**2 * V + 4 * sigmaM**2 * sigmaC**2 * W)) - \\\n",
    "                    s**2 * sigmaC**2/(sigmaM**4 + 2 * s**2 * sigmaC**2 * sigmaM**2 * np.sum((V * W)/(sigmaM**2 + 2 * s**2 * V + 2 * sigmaC**2 * W))) * \\\n",
    "                    np.outer(X, X)/(np.outer(sigmaM**2 + 2 * s**2 * V + 2 * sigmaC**2 * W, sigmaM**2 + 2 * s**2 * V + 2 * sigmaC**2 * W))\n",
    "    \n",
    "    difference = np.abs(M_inv_num - M_inv_anal)\n",
    "    if np.any(difference > tol):\n",
    "        print('Failure')\n",
    "        print('Numeric inverse:\\n', M_inv_num)\n",
    "        print('Analytic inverse:\\n', M_inv_anal)\n",
    "    else:\n",
    "        print('Success')\n",
    "                                    "
   ]
  },
  {
   "cell_type": "code",
   "execution_count": 46,
   "metadata": {},
   "outputs": [
    {
     "name": "stdout",
     "output_type": "stream",
     "text": [
      "Success\n"
     ]
    }
   ],
   "source": [
    "check_M_inv(N=80)"
   ]
  },
  {
   "cell_type": "markdown",
   "metadata": {},
   "source": [
    "# Check Inverse Covariance"
   ]
  },
  {
   "cell_type": "code",
   "execution_count": 53,
   "metadata": {
    "collapsed": true
   },
   "outputs": [],
   "source": [
    "def check_inv_covar(N=10, s=np.random.normal(), sigmaC=np.random.lognormal(), sigmaM=np.random.lognormal(),\n",
    "                   v=None, w=None, tol=10e-13):\n",
    "    if v is None:\n",
    "        v = generate_random_vector(N)\n",
    "    if w is None:\n",
    "        w = generate_random_vector(N)\n",
    "    \n",
    "    V = v**2\n",
    "    W = w**2\n",
    "    X = v*w\n",
    "    \n",
    "    covar = 2 * sigmaM**4 * np.identity(N) + 4 * sigmaM**2 * s**2 * np.diag(V) + 4 * sigmaM**2 * sigmaC**2 * np.diag(W) + 4 * s**2 * sigmaC**2 * np.outer(X, X) + 2 * sigmaC**4 * np.outer(W, W)\n",
    "    inv_covar_num = np.linalg.inv(covar)\n",
    "    \n",
    "    # calculate semi-analytically\n",
    "    M_inv = np.diag(1./(2 * sigmaM**4 + 4 * sigmaM**2 * s**2 * V + 4 * sigmaM**2 * sigmaC**2 * W)) - \\\n",
    "                    s**2 * sigmaC**2/(sigmaM**4 + 2 * s**2 * sigmaC**2 * sigmaM**2 * np.sum((V * W)/(sigmaM**2 + 2 * s**2 * V + 2 * sigmaC**2 * W))) * \\\n",
    "                    np.outer(X, X)/(np.outer(sigmaM**2 + 2 * s**2 * V + 2 * sigmaC**2 * W, sigmaM**2 + 2 * s**2 * V + 2 * sigmaC**2 * W))\n",
    "    inv_covar_anal = M_inv - 2 * sigmaC**4/(1 + 2*sigmaC**4 * np.dot(W.T, np.dot(M_inv, W))) * np.dot(M_inv, np.dot(np.outer(W, W), M_inv))\n",
    "    \n",
    "    difference = np.abs(inv_covar_num - inv_covar_anal)\n",
    "    if np.any(difference > tol):\n",
    "        print('Failure')\n",
    "        print('Numeric inverse:\\n', inv_covar_num)\n",
    "        print('Analytic inverse:\\n', inv_covar_anal)\n",
    "    else:\n",
    "        print('Success')"
   ]
  },
  {
   "cell_type": "code",
   "execution_count": 54,
   "metadata": {},
   "outputs": [
    {
     "name": "stdout",
     "output_type": "stream",
     "text": [
      "Success\n"
     ]
    }
   ],
   "source": [
    "check_inv_covar(N=60)"
   ]
  },
  {
   "cell_type": "markdown",
   "metadata": {},
   "source": [
    "# Check Fisher Information (Semi Analytic)"
   ]
  },
  {
   "cell_type": "code",
   "execution_count": 102,
   "metadata": {
    "collapsed": true
   },
   "outputs": [],
   "source": [
    "def check_fisher_1(N=10, s=np.random.normal(), sigmaC=np.random.lognormal(), sigmaM=np.random.lognormal(),\n",
    "                   v=None, w=None, tol=10e-13):\n",
    "    if v is None:\n",
    "        v = generate_random_vector(N)\n",
    "    if w is None:\n",
    "        w = generate_random_vector(N)\n",
    "    \n",
    "    V = v**2\n",
    "    W = w**2\n",
    "    X = v*w\n",
    "    \n",
    "    covar = 2 * sigmaM**4 * np.identity(N) + 4 * sigmaM**2 * s**2 * np.diag(V) + 4 * sigmaM**2 * sigmaC**2 * np.diag(W) + 4 * s**2 * sigmaC**2 * np.outer(X, X) + 2 * sigmaC**4 * np.outer(W, W)\n",
    "    inv_covar_num = np.linalg.inv(covar)\n",
    "    fisher_num = np.dot(2 * s * V, np.dot(inv_covar_num, 2 * s * V))\n",
    "    \n",
    "    # calculate semi-analytically\n",
    "    M_inv = np.diag(1./(2 * sigmaM**4 + 4 * sigmaM**2 * s**2 * V + 4 * sigmaM**2 * sigmaC**2 * W)) - \\\n",
    "                    s**2 * sigmaC**2/(sigmaM**4 + 2 * s**2 * sigmaC**2 * sigmaM**2 * np.sum((V * W)/(sigmaM**2 + 2 * s**2 * V + 2 * sigmaC**2 * W))) * \\\n",
    "                    np.outer(X, X)/(np.outer(sigmaM**2 + 2 * s**2 * V + 2 * sigmaC**2 * W, sigmaM**2 + 2 * s**2 * V + 2 * sigmaC**2 * W))\n",
    "    fisher_anal = 4 * s**2 * (np.dot(V, np.dot(M_inv, V)) - 2 * sigmaC**4/(1 + 2 * sigmaC**4 * np.dot(W, np.dot(M_inv, W))) * (np.dot(V, np.dot(M_inv, W))**2))\n",
    "    \n",
    "    difference = np.abs(fisher_num - fisher_anal)\n",
    "    if difference > tol:\n",
    "        print('Failure')\n",
    "        print('Numeric inverse:\\n', fisher_num)\n",
    "        print('Analytic inverse:\\n', fisher_anal)\n",
    "    else:\n",
    "        print('Success')"
   ]
  },
  {
   "cell_type": "code",
   "execution_count": 138,
   "metadata": {},
   "outputs": [
    {
     "name": "stdout",
     "output_type": "stream",
     "text": [
      "Success\n"
     ]
    }
   ],
   "source": [
    "check_fisher_1(N=10)"
   ]
  },
  {
   "cell_type": "markdown",
   "metadata": {},
   "source": [
    "# Check Fisher Information (Analytic)"
   ]
  },
  {
   "cell_type": "code",
   "execution_count": 124,
   "metadata": {},
   "outputs": [],
   "source": [
    "def check_fisher_2(N=10, s=np.random.normal(), sigmaC=np.random.lognormal(), sigmaM=np.random.lognormal(),\n",
    "                   v=None, w=None, tol=10e-13):\n",
    "    if v is None:\n",
    "        v = generate_random_vector(N)\n",
    "    if w is None:\n",
    "        w = generate_random_vector(N)\n",
    "    \n",
    "    V = v**2\n",
    "    W = w**2\n",
    "    X = v*w\n",
    "    \n",
    "    norm = sigmaM**2 + 2 * s**2 * V + 2 * sigmaC**2 * W\n",
    "    vw40 = np.sum(v**4/norm)\n",
    "    vw31 = np.sum((v**3 * w)/norm)\n",
    "    vw22 = np.sum((v**2 * w**2)/norm)\n",
    "    vw13 = np.sum((v * w**3)/norm)\n",
    "    vw04 = np.sum(w**4/norm)\n",
    "    \n",
    "    covar = 2 * sigmaM**4 * np.identity(N) + 4 * sigmaM**2 * s**2 * np.diag(V) + 4 * sigmaM**2 * sigmaC**2 * np.diag(W) + 4 * s**2 * sigmaC**2 * np.outer(X, X) + 2 * sigmaC**4 * np.outer(W, W)\n",
    "    inv_covar_num = np.linalg.inv(covar)\n",
    "    fisher_num = np.dot(2 * s * V, np.dot(inv_covar_num, 2 * s * V))\n",
    "    \n",
    "    fisher_anal_denom = sigmaM**4 + sigmaM**2 * (sigmaC**4 * vw04 + 2 * s**2 * sigmaC**2 * vw22) - 2 * s**2 * sigmaC**6 * (vw13**2 - vw04 * vw22)\n",
    "    fisher_anal_numer = sigmaM**4 * vw40 + sigmaC**4 * sigmaM**2 * (vw04 * vw40 - vw22**2) - 2 * s**2 * sigmaC**2 * sigmaM**2 * (vw31**2 - vw22 * vw40) - 2 * s**2 * sigmaC**6 * (vw22**3 + vw04 * vw31**2 + vw13**2 * vw40 - vw22 * (2 * vw13 * vw31 + vw04 * vw40))\n",
    "    fisher_anal = (2 * s**2/sigmaM**2) * fisher_anal_numer/fisher_anal_denom\n",
    "    \n",
    "    print(fisher_anal)\n",
    "    print(fisher_num)"
   ]
  },
  {
   "cell_type": "code",
   "execution_count": 147,
   "metadata": {},
   "outputs": [
    {
     "name": "stdout",
     "output_type": "stream",
     "text": [
      "4.190762374914809\n",
      "4.19076237491481\n"
     ]
    }
   ],
   "source": [
    "check_fisher_2(N=10)"
   ]
  },
  {
   "cell_type": "markdown",
   "metadata": {},
   "source": [
    "# 1. Check mean"
   ]
  },
  {
   "cell_type": "code",
   "execution_count": 85,
   "metadata": {
    "collapsed": true
   },
   "outputs": [],
   "source": [
    "def check_mean(N, s=np.random.normal(), sigmaC=np.random.lognormal(), sigmaM=np.random.lognormal(),\n",
    "               v = None, w = None):\n",
    "    if v is None:\n",
    "        v = generate_random_vector(N)\n",
    "    if w is None:\n",
    "        w = generate_random_vector(N)\n",
    "    \n",
    "    # calculate mean from analytic formula\n",
    "    mean_analytic = v**2 * s**2 + w**2 * sigmaI**2 + sigmaG**2\n",
    "    \n",
    "    # calculate mean from observations\n",
    "    trials = 5000000\n",
    "    xiI = np.random.normal(size = trials)\n",
    "    xij = np.random.normal(size = (N, trials))\n",
    "    observations = (np.reshape(v * s, (N, 1)) + np.outer(w, sigmaI * xiI) + sigmaG * xij)**2\n",
    "    mean_observed = np.mean(observations, axis = 1)\n",
    "    print(\"Analytic: \", mean_analytic)\n",
    "    print(\"Observed: \", mean_observed)"
   ]
  },
  {
   "cell_type": "code",
   "execution_count": 86,
   "metadata": {},
   "outputs": [
    {
     "name": "stdout",
     "output_type": "stream",
     "text": [
      "Analytic:  [ 0.41145308  0.45247908  0.43866156  0.38573842  0.38023904  0.66920013  0.89111502  0.53364669  0.56671081  0.38410963]\n",
      "Observed:  [ 0.411076    0.45266243  0.4389998   0.38599643  0.3803144   0.66859998  0.89145796  0.53376356  0.56662019  0.38396837]\n"
     ]
    }
   ],
   "source": [
    "check_mean(10)"
   ]
  },
  {
   "cell_type": "markdown",
   "metadata": {},
   "source": [
    "# 2. Check covariance"
   ]
  },
  {
   "cell_type": "code",
   "execution_count": 90,
   "metadata": {
    "collapsed": true
   },
   "outputs": [],
   "source": [
    "def check_covariance(N, s=np.random.normal(), sigmaC=np.random.lognormal(), sigmaM=np.random.lognormal(),\n",
    "               v = None, w = None):\n",
    "    if v is None:\n",
    "        v = generate_random_vector(N)\n",
    "    if w is None:\n",
    "        w = generate_random_vector(N)\n",
    "    \n",
    "    V = v**2\n",
    "    W = w**2\n",
    "    X = v * w\n",
    "    covar_analytic = 2 * sigmaG**4 + 4 * sigmaG**2 * s**2 * np.diag(V) + 4 * sigmaG**2 * sigmaI**2 * np.diag(W) \\\n",
    "                + 4 * s**2 * sigmaI**2 * np.outer(X, X) + 2 * sigmaI**4 * np.outer(W, W)\n",
    "    \n",
    "    # calculate mean from observations\n",
    "    trials = 5000000\n",
    "    xiI = np.random.normal(size = trials)\n",
    "    xij = np.random.normal(size = (N, trials))\n",
    "    observations = (np.reshape(v * s, (N, 1)) + np.outer(w, sigmaI * xiI) + sigmaG * xij)**2\n",
    "    covar_observed = np.cov(observations)\n",
    "    \n",
    "    print(\"Analytic:\\n\", covar_analytic)\n",
    "    print(\"Observed:\\n\", covar_observed)"
   ]
  },
  {
   "cell_type": "code",
   "execution_count": 91,
   "metadata": {},
   "outputs": [
    {
     "name": "stdout",
     "output_type": "stream",
     "text": [
      "Analytic:  [[  89.06932754   33.61228628   15.99068503   26.01611788   76.67464578]\n",
      " [  33.61228628   45.62159546   14.03037293   22.11418173   62.57849622]\n",
      " [  15.99068503   14.03037293   16.53662433   10.64450333   29.84532276]\n",
      " [  26.01611788   22.11418173   10.64450333   43.80708852   49.61394484]\n",
      " [  76.67464578   62.57849622   29.84532276   49.61394484  994.61544426]]\n",
      "Observed:  [[  89.03995871   32.78497791   15.12078147   25.13182741   75.76830933]\n",
      " [  32.78497791   45.6515559    13.18718356   21.26088445   61.76302759]\n",
      " [  15.12078147   13.18718356   16.52812608    9.78471733   28.94068162]\n",
      " [  25.13182741   21.26088445    9.78471733   43.791619     48.71395035]\n",
      " [  75.76830933   61.76302759   28.94068162   48.71395035  994.48174201]]\n"
     ]
    }
   ],
   "source": [
    "check_covariance(5)"
   ]
  },
  {
   "cell_type": "markdown",
   "metadata": {},
   "source": [
    "# 3. Check Fisher information"
   ]
  },
  {
   "cell_type": "code",
   "execution_count": 110,
   "metadata": {
    "collapsed": true
   },
   "outputs": [],
   "source": [
    "def check_fisher(N, s=np.random.normal(), sigmaC=np.random.lognormal(), sigmaM=np.random.lognormal(),\n",
    "               v = None, w = None):\n",
    "    if v is None:\n",
    "        v = generate_random_vector(N)\n",
    "    if w is None:\n",
    "        w = generate_random_vector(N)\n",
    "    \n",
    "    V = v**2\n",
    "    W = w**2\n",
    "    X = v * w\n",
    "    covar_analytic = 2 * sigmaG**4 * np.identity(N) + 4 * sigmaG**2 * s**2 * np.diag(V) + 4 * sigmaG**2 * sigmaI**2 * np.diag(W) \\\n",
    "            + 4 * s**2 * sigmaI**2 * np.outer(X, X) + 2 * sigmaI**4 * np.outer(W, W)\n",
    "    inv_covar = np.linalg.inv(covar_analytic)\n",
    "    fisher_numeric = 4 * s**2 * np.dot(v, np.dot(inv_covar, v))\n",
    "    \n",
    "    norm = 1./(sigmaG**2 + 2 * s**2 * V + 2 * sigmaI**2 * W)\n",
    "    vw40 = np.sum(v**4 * norm)\n",
    "    vw31 = np.sum(v**3 * w * norm)\n",
    "    vw22 = np.sum(v**2 * w**2 * norm)\n",
    "    vw13 = np.sum(v * w**3 * norm)\n",
    "    vw04 = np.sum(w**4 * norm)\n",
    "    \n",
    "    fisher_analytic = 4 * s**2 * (1./sigmaG**2 * vw40 - (2 * s**2 * sigmaI**2)/(sigmaG**2 + 2 * s**2 * sigmaG**2 * sigmaI**2 * vw22) * vw31**2 \\\n",
    "                        + (sigmaG**2 * sigmaI**4 * vw22 + 2 * s**2 * sigmaI**6 * (vw22 - 2 * vw13 * vw31))/(sigmaG**4 + sigmaG**2 * (sigmaI**4 * vw04 + 2 * s**2 * sigmaI**2 * vw22) + 2 * s**2 * sigmaI**6 *(vw04 * vw22 - 2 * vw13**2)))\n",
    "    \n",
    "    M = 2 * sigmaG**4 * np.identity(N) + 4 * sigmaG**2 * s**2 * np.diag(V) + 4 * sigmaG**2 * sigmaI**2 * np.diag(W) + 4 * s**2 * sigmaI**2 * np.outer(X, X)\n",
    "    M_inv = np.linalg.inv(M)\n",
    "    term1_analytic = 1./(2*sigmaG**2) * vw40 - (2 * s**2 * sigmaI**2)/(sigmaG**4 + 2*s**2 * sigmaI**2 * sigmaG**2 * vw22) * vw31**2\n",
    "    term1_numeric = np.dot(V, np.dot(M, V))\n",
    "    print(term1_analytic)\n",
    "    print(term1_numeric)\n",
    "    #print(fisher_analytic)\n",
    "    #print(fisher_numeric)"
   ]
  },
  {
   "cell_type": "code",
   "execution_count": 111,
   "metadata": {},
   "outputs": [
    {
     "name": "stdout",
     "output_type": "stream",
     "text": [
      "25.486827223\n",
      "29923.5629445\n"
     ]
    }
   ],
   "source": [
    "check_fisher(5)"
   ]
  },
  {
   "cell_type": "code",
   "execution_count": null,
   "metadata": {
    "collapsed": true
   },
   "outputs": [],
   "source": []
  }
 ],
 "metadata": {
  "kernelspec": {
   "display_name": "Python 3",
   "language": "python",
   "name": "python3"
  },
  "language_info": {
   "codemirror_mode": {
    "name": "ipython",
    "version": 3
   },
   "file_extension": ".py",
   "mimetype": "text/x-python",
   "name": "python",
   "nbconvert_exporter": "python",
   "pygments_lexer": "ipython3",
   "version": "3.7.5"
  }
 },
 "nbformat": 4,
 "nbformat_minor": 2
}
