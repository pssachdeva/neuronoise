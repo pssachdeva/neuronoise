{
 "cells": [
  {
   "cell_type": "code",
   "execution_count": 1,
   "metadata": {
    "collapsed": true
   },
   "outputs": [],
   "source": [
    "import numpy as np\n",
    "import matplotlib.pyplot as plt\n",
    "%matplotlib inline"
   ]
  },
  {
   "cell_type": "code",
   "execution_count": 19,
   "metadata": {
    "collapsed": true
   },
   "outputs": [],
   "source": [
    "class LNN:\n",
    "    def __init__(self, N, v = None, w = None, sigmaS = 1., sigmaI = 1., sigmaG = 1., nonlinearity = None):\n",
    "        self.N = N\n",
    "        if v is None:\n",
    "            self.v = 0\n",
    "        else:\n",
    "            self.v = v\n",
    "        \n",
    "        if w is None:\n",
    "            self.w = 0\n",
    "        else:\n",
    "            self.w = w\n",
    "        \n",
    "        if nonlinearity is None:\n",
    "            self.nonlinearity = self.squared\n",
    "        else:\n",
    "            self.nonlinearity = nonlinearity\n",
    "        \n",
    "        self.sigmaS = sigmaS\n",
    "        self.sigmaI = sigmaI\n",
    "        self.sigmaG = sigmaG\n",
    "    \n",
    "    def squared(self,x):\n",
    "        return x**2\n",
    "\n",
    "    def simulate(self,trials):\n",
    "        s = np.random.normal(loc = 0., scale = sigmaG, size = trials)\n",
    "        injected_noise = np.random.normal(loc = 0., scale = sigmaI, size = trials)\n",
    "        private_noise = np.random.normal(loc = 0., scale = sigmaG, size = (self.N, trials))\n",
    "        l = np.outer(self.v, s) + np.outer(self.w, injected_noise) + private_noise\n",
    "        r = self.nonlinearity(l)\n",
    "        return r\n",
    "    \n",
    "    def mutual(self):\n",
    "        v2 = np.sum(self.v**2)\n",
    "        w2 = np.sum(self.w**2)\n",
    "        vw = np.sum(v * w)\n",
    "        sigma_inj = self.sigmaG**2 + self.sigmaI**2 * w2\n",
    "        sigma_stim = self.sigmaG**2 + self.sigmaS**2 * v2\n",
    "        kappa = sigma_inj * sigma_stim - self.sigmaI**2 * self.sigmaS**2 * vw**2\n",
    "        I1 = 0.5 * np.log(kappa/(self.sigmaG**2 * sigma_inj))\n",
    "        \n",
    "        w_outer = np.outer(w, w)\n",
    "        v_outer = np.outer(v, v)\n",
    "        wv_outer = np.outer(w, v)\n",
    "        \n",
    "        B = -(self.sigmaI**2 * self.sigmaS**2 * vw)**2/(2 * self.sigmaG**2 * kappa * sigma_inj) * w_outer \\\n",
    "            + (self.sigmaI * self.sigmaS**2 * vw)/(kappa * self.sigmaG**2) * wv_outer \\\n",
    "            - (self.sigmaS**2 * sigma_inj)/(2 * self.sigmaG**2 * kappa) * v_outer\n",
    "        A = 1./(2 * self.sigmaG**2) * np.identity(self.N) - sigma_stim/(2 * self.sigmaG**2 * kappa) * w_outer \\\n",
    "            + (self.sigmaI * self.sigmaS**2 * vw)/(kappa * self.sigmaG**2) * wv_outer \\\n",
    "            - (self.sigmaS**2 * sigma_inj)/(2 * self.sigmaG**2 * kappa) * v_outer\n",
    "        \n",
    "        I2 = np.trace(np.dot(B, np.linalg.inv(A)))/(self.sigmaG**(self.N - 2.) * 2**(self.N/2.) * np.sqrt(kappa * np.linalg.det(A)))\n",
    "        \n",
    "        C = self.sigmaG**2 * kappa * sigma_inj * (self.sigmaG**2 * v2 + self.sigmaI**2 * (v2 * w2 - vw**2))\n",
    "        D = 1./(2 * self.sigmaG**2) * np.identity(self.N) \\\n",
    "            -(1./(2 * self.sigmaG**2 * kappa)) * (-sigma_stim * w_outer + 2 * self.sigmaI * self.sigmaS**2 * vw * wv_outer - self.sigmaS**2 * sigma_inj * v_outer)\n",
    "        gamma = (2 * self.sigmaG**2 + self.sigmaS**2 * v2) * sigma_stim - self.sigmaI**2 * self.sigmaS**2 * vw**2\n",
    "        E = gamma * (-self.sigmaI**2 * w_outer + 2 * self.sigmaI * vw * wv_outer - sigma_inj**2 * v_outer)\n",
    "        I3 = -self.sigmaS**2/(2 * 2**(self.N/2) * self.sigmaG**self.N * kappa**(2.5) * sigma_inj * np.sqrt(np.linalg.det(D))) \\\n",
    "            * (C + np.trace(np.dot(E, np.linalg.inv(D))))\n",
    "        return I1"
   ]
  },
  {
   "cell_type": "code",
   "execution_count": 20,
   "metadata": {
    "collapsed": true
   },
   "outputs": [],
   "source": [
    "ns1 = np.arange(200)\n",
    "muts1 = np.zeros(ns1.shape)"
   ]
  },
  {
   "cell_type": "code",
   "execution_count": 21,
   "metadata": {
    "scrolled": false
   },
   "outputs": [
    {
     "name": "stderr",
     "output_type": "stream",
     "text": [
      "/usr/local/lib/python2.7/site-packages/ipykernel_launcher.py:56: RuntimeWarning: overflow encountered in long_scalars\n",
      "/usr/local/lib/python2.7/site-packages/ipykernel_launcher.py:56: RuntimeWarning: divide by zero encountered in double_scalars\n"
     ]
    }
   ],
   "source": [
    "for idx, n in enumerate(ns1):\n",
    "    v = np.ones(n)\n",
    "    w = np.ones(n)\n",
    "    lnn = LNN(n, v = v, w = w)\n",
    "    muts1[idx] = lnn.mutual()"
   ]
  },
  {
   "cell_type": "code",
   "execution_count": 22,
   "metadata": {},
   "outputs": [
    {
     "data": {
      "image/png": "[encoded data removed]",
      "text/plain": [
       "<matplotlib.figure.Figure at 0x10e152390>"
      ]
     },
     "metadata": {},
     "output_type": "display_data"
    },
    {
     "data": {
      "image/png": "[encoded data removed]",
      "text/plain": [
       "<matplotlib.figure.Figure at 0x10d57cd50>"
      ]
     },
     "metadata": {},
     "output_type": "display_data"
    }
   ],
   "source": [
    "plt.plot(ns1, muts1)\n",
    "plt.show()\n",
    "plt.plot(ns1[:120], muts1[:120])\n",
    "plt.show()"
   ]
  },
  {
   "cell_type": "code",
   "execution_count": 24,
   "metadata": {},
   "outputs": [
    {
     "name": "stderr",
     "output_type": "stream",
     "text": [
      "/usr/local/lib/python2.7/site-packages/ipykernel_launcher.py:56: RuntimeWarning: overflow encountered in long_scalars\n",
      "/usr/local/lib/python2.7/site-packages/ipykernel_launcher.py:56: RuntimeWarning: divide by zero encountered in double_scalars\n"
     ]
    },
    {
     "data": {
      "text/plain": [
       "[<matplotlib.lines.Line2D at 0x10e2f0290>]"
      ]
     },
     "execution_count": 24,
     "metadata": {},
     "output_type": "execute_result"
    },
    {
     "data": {
      "image/png": "[encoded data removed]",
      "text/plain": [
       "<matplotlib.figure.Figure at 0x10e3ecf90>"
      ]
     },
     "metadata": {},
     "output_type": "display_data"
    }
   ],
   "source": [
    "ns2 = np.arange(0, 500, 2)\n",
    "muts2 = np.zeros(ns2.shape)\n",
    "for idx, n in enumerate(ns2):\n",
    "    v = np.ones(n)\n",
    "    w = np.concatenate((np.ones(n/2), 2 * np.ones(n/2)))\n",
    "    lnn = LNN(n, v = v, w = w)\n",
    "    muts2[idx] = lnn.mutual()\n",
    "plt.plot(ns2, muts2)"
   ]
  },
  {
   "cell_type": "code",
   "execution_count": 25,
   "metadata": {},
   "outputs": [
    {
     "name": "stderr",
     "output_type": "stream",
     "text": [
      "/usr/local/lib/python2.7/site-packages/ipykernel_launcher.py:56: RuntimeWarning: divide by zero encountered in double_scalars\n"
     ]
    },
    {
     "data": {
      "text/plain": [
       "[<matplotlib.lines.Line2D at 0x10e749690>]"
      ]
     },
     "execution_count": 25,
     "metadata": {},
     "output_type": "execute_result"
    },
    {
     "data": {
      "image/png": "[encoded data removed]",
      "text/plain": [
       "<matplotlib.figure.Figure at 0x10e303950>"
      ]
     },
     "metadata": {},
     "output_type": "display_data"
    }
   ],
   "source": [
    "ns3 = np.arange(0, 200, 3)\n",
    "muts3 = np.zeros(ns3.shape)\n",
    "for idx, n in enumerate(ns3):\n",
    "    v = np.ones(n)\n",
    "    w = np.concatenate((np.ones(n/3), 2 * np.ones(n/3), 3 * np.ones(n/3)))\n",
    "    lnn = LNN(n, v = v, w = w)\n",
    "    muts3[idx] = lnn.mutual()\n",
    "plt.plot(ns3, muts3)"
   ]
  },
  {
   "cell_type": "code",
   "execution_count": 26,
   "metadata": {},
   "outputs": [
    {
     "name": "stderr",
     "output_type": "stream",
     "text": [
      "/usr/local/lib/python2.7/site-packages/ipykernel_launcher.py:56: RuntimeWarning: overflow encountered in long_scalars\n",
      "/usr/local/lib/python2.7/site-packages/ipykernel_launcher.py:56: RuntimeWarning: divide by zero encountered in double_scalars\n"
     ]
    },
    {
     "data": {
      "text/plain": [
       "[<matplotlib.lines.Line2D at 0x10e6b2ed0>]"
      ]
     },
     "execution_count": 26,
     "metadata": {},
     "output_type": "execute_result"
    },
    {
     "data": {
      "image/png": "[encoded data removed]",
      "text/plain": [
       "<matplotlib.figure.Figure at 0x10e976650>"
      ]
     },
     "metadata": {},
     "output_type": "display_data"
    }
   ],
   "source": [
    "ns4 = np.arange(0, 200, 4)\n",
    "muts4 = np.zeros(ns4.shape)\n",
    "for idx, n in enumerate(ns4):\n",
    "    v = np.ones(n)\n",
    "    w = np.concatenate((np.ones(n/4), 2 * np.ones(n/4), 3 * np.ones(n/4), 4 * np.ones(n/4)))\n",
    "    lnn = LNN(n, v = v, w = w)\n",
    "    muts4[idx] = lnn.mutual()\n",
    "plt.plot(ns4, muts4)"
   ]
  },
  {
   "cell_type": "code",
   "execution_count": 29,
   "metadata": {},
   "outputs": [
    {
     "name": "stderr",
     "output_type": "stream",
     "text": [
      "/usr/local/lib/python2.7/site-packages/ipykernel_launcher.py:56: RuntimeWarning: overflow encountered in long_scalars\n",
      "/usr/local/lib/python2.7/site-packages/ipykernel_launcher.py:56: RuntimeWarning: divide by zero encountered in double_scalars\n"
     ]
    },
    {
     "data": {
      "text/plain": [
       "[<matplotlib.lines.Line2D at 0x10e790c50>]"
      ]
     },
     "execution_count": 29,
     "metadata": {},
     "output_type": "execute_result"
    },
    {
     "data": {
      "image/png": "[encoded data removed]",
      "text/plain": [
       "<matplotlib.figure.Figure at 0x10e323fd0>"
      ]
     },
     "metadata": {},
     "output_type": "display_data"
    }
   ],
   "source": [
    "nsN = np.arange(1, 200, 1)\n",
    "mutsN = np.zeros(nsN.shape)\n",
    "for idx, n in enumerate(ns4):\n",
    "    v = np.ones(n)\n",
    "    w = np.arange(1, n+1)\n",
    "    lnn = LNN(n, v = v, w = w)\n",
    "    mutsN[idx] = lnn.mutual()\n",
    "plt.plot(nsN, mutsN)"
   ]
  },
  {
   "cell_type": "code",
   "execution_count": 28,
   "metadata": {},
   "outputs": [
    {
     "data": {
      "text/plain": [
       "array([ 0.        ,  0.28667299,  0.49254423,  0.64796293,  0.76785506,\n",
       "        0.86489757,  0.94628488,  1.01632881,  1.0777902 ,  1.1325364 ,\n",
       "        1.18188719,  1.22680902,  1.26803044,  1.30611416,  1.34150373,\n",
       "        1.37455493,  1.40555748,  1.43475042,  1.4623333 ,  1.48847437,\n",
       "        1.51331684,  1.53698361,  1.55958091,  1.5812012 ,  1.60192545,\n",
       "        1.62182497,  1.64096287,  1.65939532,  1.67717245,  1.69433926,\n",
       "        1.71093627,  1.72700008,  1.74256388,  1.75765787,  1.77230956,\n",
       "        1.78654415,  1.80038472,  1.8138525 ,  1.82696704,  1.83974639,\n",
       "        1.85220727,  1.86436516,  1.87623445,  1.88782851,  1.89915983,\n",
       "        1.91024005,  1.92108005,  1.93169002,  1.94207954,  1.95225757,\n",
       "        0.        ,  0.        ,  0.        ,  0.        ,  0.        ,\n",
       "        0.        ,  0.        ,  0.        ,  0.        ,  0.        ,\n",
       "        0.        ,  0.        ,  0.        ,  0.        ,  0.        ,\n",
       "        0.        ,  0.        ,  0.        ,  0.        ,  0.        ,\n",
       "        0.        ,  0.        ,  0.        ,  0.        ,  0.        ,\n",
       "        0.        ,  0.        ,  0.        ,  0.        ,  0.        ,\n",
       "        0.        ,  0.        ,  0.        ,  0.        ,  0.        ,\n",
       "        0.        ,  0.        ,  0.        ,  0.        ,  0.        ,\n",
       "        0.        ,  0.        ,  0.        ,  0.        ,  0.        ,\n",
       "        0.        ,  0.        ,  0.        ,  0.        ,  0.        ,\n",
       "        0.        ,  0.        ,  0.        ,  0.        ,  0.        ,\n",
       "        0.        ,  0.        ,  0.        ,  0.        ,  0.        ,\n",
       "        0.        ,  0.        ,  0.        ,  0.        ,  0.        ,\n",
       "        0.        ,  0.        ,  0.        ,  0.        ,  0.        ,\n",
       "        0.        ,  0.        ,  0.        ,  0.        ,  0.        ,\n",
       "        0.        ,  0.        ,  0.        ,  0.        ,  0.        ,\n",
       "        0.        ,  0.        ,  0.        ,  0.        ,  0.        ,\n",
       "        0.        ,  0.        ,  0.        ,  0.        ,  0.        ,\n",
       "        0.        ,  0.        ,  0.        ,  0.        ,  0.        ,\n",
       "        0.        ,  0.        ,  0.        ,  0.        ,  0.        ,\n",
       "        0.        ,  0.        ,  0.        ,  0.        ,  0.        ,\n",
       "        0.        ,  0.        ,  0.        ,  0.        ,  0.        ,\n",
       "        0.        ,  0.        ,  0.        ,  0.        ,  0.        ,\n",
       "        0.        ,  0.        ,  0.        ,  0.        ,  0.        ,\n",
       "        0.        ,  0.        ,  0.        ,  0.        ,  0.        ,\n",
       "        0.        ,  0.        ,  0.        ,  0.        ,  0.        ,\n",
       "        0.        ,  0.        ,  0.        ,  0.        ,  0.        ,\n",
       "        0.        ,  0.        ,  0.        ,  0.        ,  0.        ,\n",
       "        0.        ,  0.        ,  0.        ,  0.        ,  0.        ,\n",
       "        0.        ,  0.        ,  0.        ,  0.        ,  0.        ])"
      ]
     },
     "execution_count": 28,
     "metadata": {},
     "output_type": "execute_result"
    }
   ],
   "source": [
    "mutsN"
   ]
  },
  {
   "cell_type": "code",
   "execution_count": 30,
   "metadata": {
    "collapsed": true
   },
   "outputs": [],
   "source": [
    "v1 = 3\n",
    "s = 5\n",
    "w1 = 2\n",
    "sigmaI = 4\n",
    "sigmaG = 1\n",
    "xiI = np.random.normal(size = 10000)\n",
    "xii = np.random.normal(size = 10000)\n",
    "l1 = v1 * s + w1 * sigmaI*xiI + sigmaG*xii "
   ]
  },
  {
   "cell_type": "code",
   "execution_count": 33,
   "metadata": {},
   "outputs": [
    {
     "name": "stdout",
     "output_type": "stream",
     "text": [
      "14.9463876247\n",
      "8.08393127409\n"
     ]
    }
   ],
   "source": [
    "print(np.mean(l1))\n",
    "print(np.std(l1))"
   ]
  },
  {
   "cell_type": "code",
   "execution_count": 36,
   "metadata": {},
   "outputs": [
    {
     "data": {
      "text/plain": [
       "8.0622577482985491"
      ]
     },
     "execution_count": 36,
     "metadata": {},
     "output_type": "execute_result"
    }
   ],
   "source": [
    "np.sqrt(sigmaG**2 + w1**2 * sigmaI**2)"
   ]
  },
  {
   "cell_type": "code",
   "execution_count": null,
   "metadata": {
    "collapsed": true
   },
   "outputs": [],
   "source": []
  }
 ],
 "metadata": {
  "kernelspec": {
   "display_name": "Python 3",
   "language": "python",
   "name": "python3"
  },
  "language_info": {
   "codemirror_mode": {
    "name": "ipython",
    "version": 2
   },
   "file_extension": ".py",
   "mimetype": "text/x-python",
   "name": "python",
   "nbconvert_exporter": "python",
   "pygments_lexer": "ipython2",
   "version": "2.7.13"
  }
 },
 "nbformat": 4,
 "nbformat_minor": 2
}
