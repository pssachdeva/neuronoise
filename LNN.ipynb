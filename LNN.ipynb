{
 "cells": [
  {
   "cell_type": "code",
   "execution_count": 1,
   "metadata": {
    "collapsed": true
   },
   "outputs": [],
   "source": [
    "import numpy as np"
   ]
  },
  {
   "cell_type": "code",
   "execution_count": null,
   "metadata": {
    "collapsed": true
   },
   "outputs": [],
   "source": [
    "class LNN:\n",
    "    def __init__(self, N, v = None, w = None, sigmaS = 1., sigmaI = 1., sigmaG = 1., nonlinearity = None):\n",
    "        self.N = N\n",
    "        if v is None:\n",
    "            self.v = 0\n",
    "        else:\n",
    "            self.v = v\n",
    "        \n",
    "        if w is None:\n",
    "            self.w = 0\n",
    "        else:\n",
    "            self.w = w\n",
    "        \n",
    "        if nonlinearity is None:\n",
    "            self.nonlinearity = self.squared\n",
    "        else:\n",
    "            self.nonlinearity = nonlinearity\n",
    "    \n",
    "    def squared(x):\n",
    "        return x**2\n",
    "\n",
    "    def simulate(trials):\n",
    "        s = np.random.normal(loc = 0., scale = sigmaG, size = trials)\n",
    "        injected_noise = np.random.normal(loc = 0., scale = sigmaI, size = trials)\n",
    "        private_noise = np.random.normal(loc = 0., scale = sigmaG, size = (self.N, trials))\n",
    "        l = np.outer(self.v, s) + np.outer(self.w, injected_noise) + private_noise\n",
    "        r = self.nonlinearity(l)\n",
    "        return r\n",
    "        "
   ]
  }
 ],
 "metadata": {
  "kernelspec": {
   "display_name": "Python 3",
   "language": "python",
   "name": "python3"
  },
  "language_info": {
   "codemirror_mode": {
    "name": "ipython",
    "version": 2
   },
   "file_extension": ".py",
   "mimetype": "text/x-python",
   "name": "python",
   "nbconvert_exporter": "python",
   "pygments_lexer": "ipython2",
   "version": "2.7.13"
  }
 },
 "nbformat": 4,
 "nbformat_minor": 2
}
