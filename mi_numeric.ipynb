{
 "cells": [
  {
   "cell_type": "code",
   "execution_count": 1,
   "metadata": {
    "collapsed": true
   },
   "outputs": [],
   "source": [
    "import h5py\n",
    "import numpy as np\n",
    "\n",
    "from LNN import LNN \n",
    "# matplotlib settings\n",
    "params = {\n",
    "    'text.latex.preamble': ['\\\\usepackage{gensymb}'],\n",
    "    'image.origin': 'lower',\n",
    "    'image.interpolation': 'nearest',\n",
    "    'image.cmap': 'gray',\n",
    "    'axes.grid': False,\n",
    "    'savefig.dpi': 150,  # to adjust notebook inline plot size\n",
    "    'axes.labelsize': 8, # fontsize for x and y labels (was 10)\n",
    "    'axes.titlesize': 8,\n",
    "    'font.size': 8, # was 10\n",
    "    'legend.fontsize': 6, # was 10\n",
    "    'xtick.labelsize': 8,\n",
    "    'ytick.labelsize': 8,\n",
    "    'text.usetex': True,\n",
    "    'figure.figsize': [3.39, 2.10],\n",
    "    'font.family': 'serif',\n",
    "}\n",
    "import matplotlib.pyplot as plt\n",
    "import matplotlib\n",
    "matplotlib.rcParams.update(params)\n",
    "from mpl_toolkits.axes_grid1 import make_axes_locatable\n",
    "%matplotlib inline"
   ]
  },
  {
   "cell_type": "code",
   "execution_count": 6,
   "metadata": {},
   "outputs": [
    {
     "data": {
      "text/plain": [
       "array([-inf, -inf, -inf, -inf, -inf, -inf, -inf, -inf, -inf, -inf, -inf,\n",
       "       -inf, -inf, -inf, -inf, -inf, -inf, -inf, -inf, -inf, -inf, -inf,\n",
       "       -inf, -inf, -inf, -inf, -inf, -inf, -inf, -inf, -inf, -inf, -inf,\n",
       "       -inf, -inf, -inf, -inf, -inf, -inf, -inf, -inf, -inf, -inf, -inf,\n",
       "       -inf, -inf, -inf, -inf, -inf, -inf])"
      ]
     },
     "execution_count": 6,
     "metadata": {},
     "output_type": "execute_result"
    }
   ],
   "source": [
    "f = h5py.File('mi_N12_sigmaM0.5_sigmaC0.5_sigmaS1.0_muNone.h5')\n",
    "f['results'][0, :]"
   ]
  },
  {
   "cell_type": "code",
   "execution_count": 2,
   "metadata": {
    "collapsed": false
   },
   "outputs": [],
   "source": [
    "f1 = 'mi_N10_sigmaM0.5_sigmaC1.0_sigmaS1.0.h5'\n",
    "f2 = 'mi_N10_sigmaM0.5_sigmaC1.0_sigmaS1.0_small.h5'\n",
    "f3 = 'mi_N10_sigmaM0.5_sigmaC1.0_sigmaS1.0_.h5'\n",
    "data1 = h5py.File(f1, 'r')\n",
    "data2 = h5py.File(f1, 'r')\n",
    "data3 = h5py.File(f3, 'r')"
   ]
  },
  {
   "cell_type": "code",
   "execution_count": 5,
   "metadata": {
    "collapsed": false
   },
   "outputs": [
    {
     "data": {
      "text/plain": [
       "(array([ 1.,  1.,  2.,  8., 24., 17., 22., 15.,  8.,  2.]),\n",
       " array([0.36455224, 0.36627819, 0.36800415, 0.3697301 , 0.37145606,\n",
       "        0.37318201, 0.37490797, 0.37663392, 0.37835988, 0.38008583,\n",
       "        0.38181179]),\n",
       " <a list of 10 Patch objects>)"
      ]
     },
     "execution_count": 5,
     "metadata": {},
     "output_type": "execute_result"
    },
    {
     "data": {
      "image/png": "[encoded data removed]",
      "text/plain": [
       "<Figure size 432x288 with 1 Axes>"
      ]
     },
     "metadata": {},
     "output_type": "display_data"
    }
   ],
   "source": [
    "plt.hist(data1['results'][0], color='k')\n",
    "plt.hist(data1['results'][1], color='b')\n",
    "plt.hist(data1['results'][2], color='r')\n",
    "plt.hist(data1['results'][3], color='g')\n",
    "plt.hist(data3['results'][0], color='k')\n",
    "plt.hist(data3['results'][1], color='b')\n",
    "plt.hist(data3['results'][2], color='r')\n",
    "plt.hist(data3['results'][3], color='g')"
   ]
  },
  {
   "cell_type": "code",
   "execution_count": 4,
   "metadata": {
    "collapsed": false
   },
   "outputs": [
    {
     "data": {
      "text/plain": [
       "(array([ 1.,  1.,  2.,  8., 24., 17., 22., 15.,  8.,  2.]),\n",
       " array([0.36455224, 0.36627819, 0.36800415, 0.3697301 , 0.37145606,\n",
       "        0.37318201, 0.37490797, 0.37663392, 0.37835988, 0.38008583,\n",
       "        0.38181179]),\n",
       " <a list of 10 Patch objects>)"
      ]
     },
     "execution_count": 4,
     "metadata": {},
     "output_type": "execute_result"
    },
    {
     "data": {
      "image/png": "[encoded data removed]",
      "text/plain": [
       "<Figure size 432x288 with 1 Axes>"
      ]
     },
     "metadata": {},
     "output_type": "display_data"
    }
   ],
   "source": [
    "plt.hist(data3['results'][0], color='k')\n",
    "plt.hist(data3['results'][1], color='b')\n",
    "plt.hist(data3['results'][2], color='r')\n",
    "plt.hist(data3['results'][3], color='g')"
   ]
  },
  {
   "cell_type": "code",
   "execution_count": 4,
   "metadata": {
    "collapsed": false
   },
   "outputs": [
    {
     "data": {
      "text/plain": [
       "(array([  1.,   4.,   8.,   9.,  14.,  15.,  18.,  18.,   9.,   4.]),\n",
       " array([ 0.28658499,  0.29066056,  0.29473614,  0.29881171,  0.30288729,\n",
       "         0.30696286,  0.31103844,  0.31511401,  0.31918959,  0.32326516,\n",
       "         0.32734074]),\n",
       " <a list of 10 Patch objects>)"
      ]
     },
     "execution_count": 4,
     "metadata": {},
     "output_type": "execute_result"
    },
    {
     "data": {
      "image/png": "[encoded data removed]",
      "text/plain": [
       "<matplotlib.figure.Figure at 0x10de13610>"
      ]
     },
     "metadata": {},
     "output_type": "display_data"
    }
   ],
   "source": [
    "plt.hist(data['results'][0], color='k')\n",
    "plt.hist(data['results'][1], color='b')\n",
    "plt.hist(data['results'][2], color='r')\n",
    "plt.hist(data['results'][3], color='g')"
   ]
  },
  {
   "cell_type": "code",
   "execution_count": null,
   "metadata": {
    "collapsed": true
   },
   "outputs": [],
   "source": []
  }
 ],
 "metadata": {
  "kernelspec": {
   "display_name": "Python 3",
   "language": "python",
   "name": "python3"
  },
  "language_info": {
   "codemirror_mode": {
    "name": "ipython",
    "version": 3
   },
   "file_extension": ".py",
   "mimetype": "text/x-python",
   "name": "python",
   "nbconvert_exporter": "python",
   "pygments_lexer": "ipython3",
   "version": "3.6.5"
  },
  "varInspector": {
   "cols": {
    "lenName": 16,
    "lenType": 16,
    "lenVar": 40
   },
   "kernels_config": {
    "python": {
     "delete_cmd_postfix": "",
     "delete_cmd_prefix": "del ",
     "library": "var_list.py",
     "varRefreshCmd": "print(var_dic_list())"
    },
    "r": {
     "delete_cmd_postfix": ") ",
     "delete_cmd_prefix": "rm(",
     "library": "var_list.r",
     "varRefreshCmd": "cat(var_dic_list()) "
    }
   },
   "types_to_exclude": [
    "module",
    "function",
    "builtin_function_or_method",
    "instance",
    "_Feature"
   ],
   "window_display": false
  }
 },
 "nbformat": 4,
 "nbformat_minor": 2
}
