{
 "cells": [
  {
   "cell_type": "code",
   "execution_count": 1,
   "metadata": {
    "collapsed": false
   },
   "outputs": [],
   "source": [
    "import numpy as np\n",
    "from scipy.stats import truncnorm\n",
    "import gcmi\n",
    "import entropy_estimators as ee\n",
    "\n",
    "from LNN import LNN"
   ]
  },
  {
   "cell_type": "code",
   "execution_count": 10,
   "metadata": {
    "collapsed": false
   },
   "outputs": [],
   "source": [
    "lnn = LNN(N = 10, nonlinearity = 'ReLU', thres = 0)"
   ]
  },
  {
   "cell_type": "code",
   "execution_count": 16,
   "metadata": {
    "collapsed": false
   },
   "outputs": [],
   "source": [
    "T = 10000\n",
    "s, l, r = lnn.simulate(T)\n",
    "mut_lin_true = lnn.MI_linear_stage()"
   ]
  },
  {
   "cell_type": "code",
   "execution_count": 17,
   "metadata": {
    "collapsed": false
   },
   "outputs": [],
   "source": [
    "mut_lin_gcmi = gcmi.gcmi_cc(s, l)\n",
    "mut_lin_npeet = ee.mi(s.reshape(T, 1), l.T)"
   ]
  },
  {
   "cell_type": "code",
   "execution_count": 18,
   "metadata": {
    "collapsed": false
   },
   "outputs": [],
   "source": [
    "mut_nonlin_gcmi = gcmi.gcmi_cc(s, r)\n",
    "mut_nonlin_npeet = ee.mi(s.reshape(T, 1), r.T)"
   ]
  },
  {
   "cell_type": "code",
   "execution_count": 19,
   "metadata": {
    "collapsed": false
   },
   "outputs": [
    {
     "name": "stdout",
     "output_type": "stream",
     "text": [
      "0.323313582463\n",
      "0.479952591003\n",
      "0.250821833275\n"
     ]
    }
   ],
   "source": [
    "print(mut_lin_true)\n",
    "print(mut_lin_gcmi)\n",
    "print(mut_lin_npeet)"
   ]
  },
  {
   "cell_type": "code",
   "execution_count": 20,
   "metadata": {
    "collapsed": false
   },
   "outputs": [
    {
     "name": "stdout",
     "output_type": "stream",
     "text": [
      "0.316925928255\n",
      "0.379039805083\n"
     ]
    }
   ],
   "source": [
    "print(mut_nonlin_gcmi)\n",
    "print(mut_nonlin_npeet)"
   ]
  },
  {
   "cell_type": "code",
   "execution_count": null,
   "metadata": {
    "collapsed": true
   },
   "outputs": [],
   "source": []
  }
 ],
 "metadata": {
  "kernelspec": {
   "display_name": "Python 2",
   "language": "python",
   "name": "python2"
  },
  "language_info": {
   "codemirror_mode": {
    "name": "ipython",
    "version": 2
   },
   "file_extension": ".py",
   "mimetype": "text/x-python",
   "name": "python",
   "nbconvert_exporter": "python",
   "pygments_lexer": "ipython2",
   "version": "2.7.12"
  }
 },
 "nbformat": 4,
 "nbformat_minor": 2
}
