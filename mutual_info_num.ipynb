{
 "cells": [
  {
   "cell_type": "code",
   "execution_count": 1,
   "metadata": {
    "collapsed": true
   },
   "outputs": [],
   "source": [
    "import numpy as np\n",
    "from scipy.stats import truncnorm\n",
    "import gcmi\n",
    "import entropy_estimators as ee\n",
    "\n",
    "from LNN import LNN"
   ]
  },
  {
   "cell_type": "code",
   "execution_count": 14,
   "metadata": {
    "collapsed": true
   },
   "outputs": [],
   "source": [
    "lnn = LNN(N = 1, thres = 0)"
   ]
  },
  {
   "cell_type": "code",
   "execution_count": 40,
   "metadata": {
    "collapsed": true
   },
   "outputs": [],
   "source": [
    "T = 800000\n",
    "s, l, r = lnn.simulate(T)\n",
    "mut_lin_true = lnn.MI_linear_stage()"
   ]
  },
  {
   "cell_type": "code",
   "execution_count": 43,
   "metadata": {
    "collapsed": true
   },
   "outputs": [],
   "source": [
    "#mut_lin_gcmi = gcmi.gcmi_cc(s, l)\n",
    "mut_lin_npeet = ee.mi(s.reshape(T, 1), l.T)"
   ]
  },
  {
   "cell_type": "code",
   "execution_count": 41,
   "metadata": {
    "collapsed": true
   },
   "outputs": [],
   "source": [
    "mut_nonlin_gcmi = gcmi.gcmi_cc(s, r)\n",
    "#mut_nonlin_npeet = ee.mi(s.reshape(T, 1), r.T)"
   ]
  },
  {
   "cell_type": "code",
   "execution_count": 42,
   "metadata": {},
   "outputs": [
    {
     "name": "stdout",
     "output_type": "stream",
     "text": [
      "1.32296578768e-07\n",
      "0.0624189437561\n"
     ]
    }
   ],
   "source": [
    "print(mut_nonlin_gcmi)\n",
    "print(mut_nonlin_npeet)"
   ]
  },
  {
   "cell_type": "code",
   "execution_count": 27,
   "metadata": {},
   "outputs": [
    {
     "name": "stdout",
     "output_type": "stream",
     "text": [
      "0.202732554054\n",
      "0.201714774051\n",
      "0.203332208797\n"
     ]
    }
   ],
   "source": [
    "print(mut_lin_true)\n",
    "print(mut_lin_gcmi * np.log(2))\n",
    "print(mut_lin_npeet*np.log(2))"
   ]
  },
  {
   "cell_type": "code",
   "execution_count": null,
   "metadata": {
    "collapsed": true
   },
   "outputs": [],
   "source": []
  }
 ],
 "metadata": {
  "kernelspec": {
   "display_name": "Python 2",
   "language": "python",
   "name": "python2"
  },
  "language_info": {
   "codemirror_mode": {
    "name": "ipython",
    "version": 2
   },
   "file_extension": ".py",
   "mimetype": "text/x-python",
   "name": "python",
   "nbconvert_exporter": "python",
   "pygments_lexer": "ipython2",
   "version": "2.7.13"
  }
 },
 "nbformat": 4,
 "nbformat_minor": 2
}
