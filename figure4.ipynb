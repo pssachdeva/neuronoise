{
 "cells": [
  {
   "cell_type": "code",
   "execution_count": 28,
   "metadata": {
    "collapsed": true
   },
   "outputs": [],
   "source": [
    "from LNN import *\n",
    "\n",
    "from scipy.stats import lognorm\n",
    "from scipy.spatial.distance import cosine\n",
    "# matplotlib settings\n",
    "import matplotlib.pyplot as plt\n",
    "%matplotlib inline\n",
    "from matplotlib import rc\n",
    "plt.style.use('ggplot')\n",
    "rc('font',**{'family':'serif','serif':['Computer Modern Roman']})\n",
    "rc('text', usetex = True)\n",
    "from mpl_toolkits.axes_grid1 import make_axes_locatable\n",
    "\n",
    "CB_color_cycle = ['#377eb8', '#ff7f00', '#4daf4a',\n",
    "                  '#f781bf', '#a65628', '#984ea3',\n",
    "                  '#999999', '#e41a1c', '#dede00']"
   ]
  },
  {
   "cell_type": "code",
   "execution_count": 123,
   "metadata": {
    "collapsed": false
   },
   "outputs": [],
   "source": [
    "lnn = LNN(N=100, kv=1, kw=7, sigmaM=1., sigmaC=1.)"
   ]
  },
  {
   "cell_type": "code",
   "execution_count": 113,
   "metadata": {
    "collapsed": false
   },
   "outputs": [
    {
     "data": {
      "text/plain": [
       "0.7588175201918618"
      ]
     },
     "execution_count": 113,
     "metadata": {},
     "output_type": "execute_result"
    }
   ],
   "source": [
    "covar = lnn.covar_squared_nonlin(3)\n",
    "_, eigv = np.linalg.eigh(covar)\n",
    "np.abs(1-cosine(eigv[:, -1], lnn.v))"
   ]
  },
  {
   "cell_type": "code",
   "execution_count": 124,
   "metadata": {
    "collapsed": false
   },
   "outputs": [
    {
     "data": {
      "text/plain": [
       "(array([ 105., 1275.,    0.,    0.,    0.,  105., 1050.,  105.,  930.,\n",
       "        1380.]),\n",
       " array([0.375     , 0.43361538, 0.49223077, 0.55084615, 0.60946154,\n",
       "        0.66807692, 0.72669231, 0.78530769, 0.84392308, 0.90253846,\n",
       "        0.96115385]),\n",
       " <a list of 10 Patch objects>)"
      ]
     },
     "execution_count": 124,
     "metadata": {},
     "output_type": "execute_result"
    },
    {
     "data": {
      "image/png": "[encoded data removed]",
      "text/plain": [
       "<matplotlib.figure.Figure at 0x1134264a8>"
      ]
     },
     "metadata": {},
     "output_type": "display_data"
    }
   ],
   "source": [
    "corr = lnn.correlation_matrix(s=1.)\n",
    "plt.hist(corr[np.triu_indices(lnn.N, k=1)])"
   ]
  },
  {
   "cell_type": "code",
   "execution_count": 130,
   "metadata": {
    "collapsed": false
   },
   "outputs": [
    {
     "data": {
      "text/plain": [
       "3"
      ]
     },
     "execution_count": 130,
     "metadata": {},
     "output_type": "execute_result"
    }
   ],
   "source": [
    "np.unique(corr[np.triu_indices(10, k=1)]).size"
   ]
  },
  {
   "cell_type": "code",
   "execution_count": 135,
   "metadata": {
    "collapsed": false
   },
   "outputs": [
    {
     "data": {
      "text/plain": [
       "(array([ 112.        ,  112.        ,  112.        ,  112.        ,\n",
       "         124.28870753,  352.        ,  352.        ,  352.        ,\n",
       "         352.        , 1869.71129247]),\n",
       " array([[-2.98082412e-02,  9.10828362e-02,  6.52635716e-01,\n",
       "         -6.04054640e-01,  4.37144619e-01,  0.00000000e+00,\n",
       "          0.00000000e+00,  4.57863317e-17,  0.00000000e+00,\n",
       "         -9.43640926e-02],\n",
       "        [ 6.25279426e-02, -2.89264815e-01, -6.99885334e-01,\n",
       "         -4.71780290e-01,  4.37144619e-01, -8.22274276e-17,\n",
       "         -2.69240564e-16, -4.20831145e-16, -1.29195388e-17,\n",
       "         -9.43640926e-02],\n",
       "        [ 1.61292025e-01,  8.24762606e-01, -1.98089526e-01,\n",
       "          2.33478193e-01,  4.37144619e-01,  6.43502768e-17,\n",
       "          1.33379694e-16,  3.35977164e-16, -8.12041236e-17,\n",
       "         -9.43640926e-02],\n",
       "        [-7.86341171e-01, -1.87801694e-01,  3.63792664e-02,\n",
       "          3.80886644e-01,  4.37144619e-01, -3.24981560e-16,\n",
       "         -3.03966106e-17, -1.01203254e-16,  2.69657234e-16,\n",
       "         -9.43640926e-02],\n",
       "        [ 5.92329445e-01, -4.38778933e-01,  2.08959878e-01,\n",
       "          4.61470093e-01,  4.37144619e-01,  2.42087432e-16,\n",
       "         -6.13541558e-17, -1.68541362e-16, -1.24630087e-16,\n",
       "         -9.43640926e-02],\n",
       "        [-1.02291529e-16,  1.20994400e-16,  6.61171248e-16,\n",
       "          1.30853277e-15, -9.43640926e-02,  2.53835312e-02,\n",
       "          7.32626266e-01, -4.17845697e-01,  2.96680643e-01,\n",
       "         -4.37144619e-01],\n",
       "        [-1.05760976e-16,  1.20994400e-16,  8.27704701e-16,\n",
       "          1.33628834e-15, -9.43640926e-02, -6.95404407e-01,\n",
       "         -1.15521939e-01, -1.43512764e-01, -5.31480459e-01,\n",
       "         -4.37144619e-01],\n",
       "        [ 3.00164318e-16,  3.43039005e-16,  8.27704701e-16,\n",
       "          1.28077719e-15, -9.43640926e-02, -6.48351716e-02,\n",
       "         -6.10802281e-01, -1.46470707e-01,  6.33453476e-01,\n",
       "         -4.37144619e-01],\n",
       "        [-5.35972398e-16,  2.87527854e-16,  7.72193550e-16,\n",
       "          1.33628834e-15, -9.43640926e-02,  7.14960815e-01,\n",
       "         -1.99128257e-01, -1.62246401e-01, -4.72075286e-01,\n",
       "         -4.37144619e-01],\n",
       "        [-1.57802680e-16, -1.98194720e-16,  6.05660096e-16,\n",
       "          1.19751046e-15, -9.43640926e-02,  1.98952328e-02,\n",
       "          1.92826211e-01,  8.70075570e-01,  7.34216256e-02,\n",
       "         -4.37144619e-01]]))"
      ]
     },
     "execution_count": 135,
     "metadata": {},
     "output_type": "execute_result"
    }
   ],
   "source": [
    "np.linalg.eigh(covar)"
   ]
  },
  {
   "cell_type": "code",
   "execution_count": null,
   "metadata": {
    "collapsed": true
   },
   "outputs": [],
   "source": []
  }
 ],
 "metadata": {
  "kernelspec": {
   "display_name": "Python 3",
   "language": "python",
   "name": "python3"
  },
  "language_info": {
   "codemirror_mode": {
    "name": "ipython",
    "version": 3
   },
   "file_extension": ".py",
   "mimetype": "text/x-python",
   "name": "python",
   "nbconvert_exporter": "python",
   "pygments_lexer": "ipython3",
   "version": "3.5.1"
  }
 },
 "nbformat": 4,
 "nbformat_minor": 0
}
